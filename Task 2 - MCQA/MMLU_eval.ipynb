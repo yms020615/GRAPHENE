{
  "nbformat": 4,
  "nbformat_minor": 0,
  "metadata": {
    "colab": {
      "provenance": []
    },
    "kernelspec": {
      "name": "python3",
      "display_name": "Python 3"
    },
    "language_info": {
      "name": "python"
    }
  },
  "cells": [
    {
      "cell_type": "code",
      "source": [
        "from google.colab import drive\n",
        "drive.mount('/content/drive')"
      ],
      "metadata": {
        "colab": {
          "base_uri": "https://localhost:8080/"
        },
        "id": "l1DvmGD0KQmr",
        "outputId": "bec758cc-37a3-45c5-a1ac-eda9b5f9b53d"
      },
      "execution_count": null,
      "outputs": [
        {
          "output_type": "stream",
          "name": "stdout",
          "text": [
            "Mounted at /content/drive\n"
          ]
        }
      ]
    },
    {
      "cell_type": "code",
      "source": [
        "%cd '/content/drive/MyDrive/DATA410'"
      ],
      "metadata": {
        "colab": {
          "base_uri": "https://localhost:8080/"
        },
        "id": "a7iM37j3KRpN",
        "outputId": "edbb565f-eb71-4170-c1f5-5300ca7b746d"
      },
      "execution_count": null,
      "outputs": [
        {
          "output_type": "stream",
          "name": "stdout",
          "text": [
            "/content/drive/MyDrive/DATA410\n"
          ]
        }
      ]
    },
    {
      "cell_type": "code",
      "source": [
        "import json\n",
        "\n",
        "file_path = 'MMLU_eval.jsonl'\n",
        "\n",
        "answers = []\n",
        "with open(file_path, 'r') as file:\n",
        "    for line in file:\n",
        "        data = json.loads(line)\n",
        "        answers.append(data.get('Answer', None))\n",
        "\n",
        "answers[:5]"
      ],
      "metadata": {
        "colab": {
          "base_uri": "https://localhost:8080/"
        },
        "id": "3vkfwnfCVFuV",
        "outputId": "6d884b94-2d39-4f07-9f09-40a93e74d291"
      },
      "execution_count": null,
      "outputs": [
        {
          "output_type": "execute_result",
          "data": {
            "text/plain": [
              "['C', 'D', 'C', 'C', 'D']"
            ]
          },
          "metadata": {},
          "execution_count": 3
        }
      ]
    },
    {
      "cell_type": "markdown",
      "source": [
        "# Llama2 7B"
      ],
      "metadata": {
        "id": "CGStvPsZ9oB0"
      }
    },
    {
      "cell_type": "code",
      "source": [
        "baseline_answer_str = \"\"\"\n",
        "E E E A E C B E A E\n",
        "B E B E E C B E E E\n",
        "E E E E E B E E E E\n",
        "C E B E E E E E B E\n",
        "B E E E E E E E E E\n",
        "A E E E E E B E E A\n",
        "E E E E E E E E E E\n",
        "E E E C E E E E A E\n",
        "E E E E E C E A E E\n",
        "C E C E A E C E E E\n",
        "E E E E D E E E E E\n",
        "D E E E E E E E E E\n",
        "E A D E E E E E E E\n",
        "E E E E E C A E E E\n",
        "E E E E E E E E A E\n",
        "A E E D E E E E B E\n",
        "E C E A C E E E B E\n",
        "E E E E E E E E C B\n",
        "E E E C E E E E B E\n",
        "E E E E E C E E E E\n",
        "A E E E E\n",
        "\"\"\"\n",
        "baseline_answers = baseline_answer_str.split()\n",
        "print(len(baseline_answers), baseline_answers[:5])\n",
        "print(baseline_answers.count('A'), baseline_answers.count('B'), baseline_answers.count('C'), baseline_answers.count('D'), baseline_answers.count('E'))\n",
        "print((baseline_answers.count('A') + baseline_answers.count('B') + baseline_answers.count('C') + baseline_answers.count('D')) / len(baseline_answers))"
      ],
      "metadata": {
        "colab": {
          "base_uri": "https://localhost:8080/"
        },
        "id": "3kTh5BEKVOqi",
        "outputId": "d420235c-a1bb-4ea7-8753-5c41202d562b"
      },
      "execution_count": null,
      "outputs": [
        {
          "output_type": "stream",
          "name": "stdout",
          "text": [
            "205 ['E', 'E', 'E', 'A', 'E']\n",
            "13 13 14 4 161\n",
            "0.2146341463414634\n"
          ]
        }
      ]
    },
    {
      "cell_type": "code",
      "source": [
        "correct_count_corrected = sum(1 for provided, user in zip(answers, baseline_answers) if provided == user)\n",
        "total_answers_corrected = len(baseline_answers)\n",
        "accuracy_corrected = correct_count_corrected / total_answers_corrected if total_answers_corrected else 0\n",
        "\n",
        "accuracy_corrected, correct_count_corrected, total_answers_corrected"
      ],
      "metadata": {
        "colab": {
          "base_uri": "https://localhost:8080/"
        },
        "id": "vOZ451MhVdT1",
        "outputId": "cff8a611-e922-4483-8de7-c5fd990c4bbf"
      },
      "execution_count": null,
      "outputs": [
        {
          "output_type": "execute_result",
          "data": {
            "text/plain": [
              "(0.07317073170731707, 15, 205)"
            ]
          },
          "metadata": {},
          "execution_count": 5
        }
      ]
    },
    {
      "cell_type": "markdown",
      "source": [
        "# Llama2 7B + Fine-Tuning"
      ],
      "metadata": {
        "id": "VOKglP4h9r5b"
      }
    },
    {
      "cell_type": "code",
      "source": [
        "baseline_answer_str = \"\"\"\n",
        "D D D A C D E C A E\n",
        "C C C E A C B C A E\n",
        "E A A E B E A D E E\n",
        "A E B A A B B D C E\n",
        "A B E E E B E C E D\n",
        "A C C E B D B E B E\n",
        "C C E A B E B D A E\n",
        "A E E B D B E E B D\n",
        "C E D E E E D C D E\n",
        "B A E C C E C B C D\n",
        "E E C E B D D D C C\n",
        "C A D D E E E C C D\n",
        "C C C C E A B E D C\n",
        "E D C A E E D E C D\n",
        "B C E B E C A C E D\n",
        "E D E A E D B B B A\n",
        "D E E E E C E D D B\n",
        "C B E D A E B B B B\n",
        "E B C B E C D C E E\n",
        "A D B E A C A E E E\n",
        "D A B A C\n",
        "\"\"\"\n",
        "baseline_answers = baseline_answer_str.split()\n",
        "print(len(baseline_answers), baseline_answers[:5])\n",
        "print(baseline_answers.count('A'), baseline_answers.count('B'), baseline_answers.count('C'), baseline_answers.count('D'), baseline_answers.count('E'))\n",
        "print((baseline_answers.count('A') + baseline_answers.count('B') + baseline_answers.count('C') + baseline_answers.count('D')) / len(baseline_answers))"
      ],
      "metadata": {
        "colab": {
          "base_uri": "https://localhost:8080/"
        },
        "outputId": "b56f1ab1-9664-45e3-a974-5e3b8f843276",
        "id": "Q8zW3vV2mHPg"
      },
      "execution_count": null,
      "outputs": [
        {
          "output_type": "stream",
          "name": "stdout",
          "text": [
            "205 ['D', 'D', 'D', 'A', 'C']\n",
            "28 34 42 35 66\n",
            "0.6780487804878049\n"
          ]
        }
      ]
    },
    {
      "cell_type": "code",
      "source": [
        "correct_count_corrected = sum(1 for provided, user in zip(answers, baseline_answers) if provided == user)\n",
        "total_answers_corrected = len(baseline_answers)\n",
        "accuracy_corrected = correct_count_corrected / total_answers_corrected if total_answers_corrected else 0\n",
        "\n",
        "accuracy_corrected, correct_count_corrected, total_answers_corrected"
      ],
      "metadata": {
        "colab": {
          "base_uri": "https://localhost:8080/"
        },
        "outputId": "40b94ebe-cdcd-43ae-cfa8-bff4898a3353",
        "id": "ywjVrLYvmHPh"
      },
      "execution_count": null,
      "outputs": [
        {
          "output_type": "execute_result",
          "data": {
            "text/plain": [
              "(0.18048780487804877, 37, 205)"
            ]
          },
          "metadata": {},
          "execution_count": 10
        }
      ]
    },
    {
      "cell_type": "markdown",
      "source": [
        "# Llama2 7B + CoT"
      ],
      "metadata": {
        "id": "x1e61biA9zVe"
      }
    },
    {
      "cell_type": "code",
      "source": [
        "baseline_answer_str = \"\"\"\n",
        "B A B A D D B A B E\n",
        "B C B C C A D C C E\n",
        "D A D D A B C A D C\n",
        "E B B C C B A C C D\n",
        "D D B C A B C C E A\n",
        "A D A C B B B A C A\n",
        "E D D E E A B B A B\n",
        "D C A B A D D A C E\n",
        "A B C A A C A D A C\n",
        "C A B D B E A A A A\n",
        "A D D D A A D D C E\n",
        "A E C A A C A D C C\n",
        "D B C B A B B D D D\n",
        "D A E B A D D B B C\n",
        "B B A A D B E B B C\n",
        "D D D A C D D B D A\n",
        "B B D A E B D B D D\n",
        "D D A D D C E B B B\n",
        "B C D C A E C B D A\n",
        "D D D D A B D A B D\n",
        "C D D A A\n",
        "\"\"\"\n",
        "baseline_answers = baseline_answer_str.split()\n",
        "print(len(baseline_answers), baseline_answers[:5])\n",
        "print(baseline_answers.count('A'), baseline_answers.count('B'), baseline_answers.count('C'), baseline_answers.count('D'), baseline_answers.count('E'))\n",
        "print((baseline_answers.count('A') + baseline_answers.count('B') + baseline_answers.count('C') + baseline_answers.count('D')) / len(baseline_answers))"
      ],
      "metadata": {
        "colab": {
          "base_uri": "https://localhost:8080/"
        },
        "outputId": "c09b6673-4fb8-4ac1-f323-bbf1bdd581b4",
        "id": "vkF3Z2Z__reS"
      },
      "execution_count": null,
      "outputs": [
        {
          "output_type": "stream",
          "name": "stdout",
          "text": [
            "205 ['B', 'A', 'B', 'A', 'D']\n",
            "51 46 36 56 16\n",
            "0.9219512195121952\n"
          ]
        }
      ]
    },
    {
      "cell_type": "code",
      "source": [
        "correct_count_corrected = sum(1 for provided, user in zip(answers, baseline_answers) if provided == user)\n",
        "total_answers_corrected = len(baseline_answers)\n",
        "accuracy_corrected = correct_count_corrected / total_answers_corrected if total_answers_corrected else 0\n",
        "\n",
        "accuracy_corrected, correct_count_corrected, total_answers_corrected"
      ],
      "metadata": {
        "colab": {
          "base_uri": "https://localhost:8080/"
        },
        "outputId": "a5ab4a96-4bc7-4609-d2ea-099e7eef430c",
        "id": "MrU_KG6V_reT"
      },
      "execution_count": null,
      "outputs": [
        {
          "output_type": "execute_result",
          "data": {
            "text/plain": [
              "(0.28292682926829266, 58, 205)"
            ]
          },
          "metadata": {},
          "execution_count": 14
        }
      ]
    },
    {
      "cell_type": "markdown",
      "source": [
        "# Llama2 7B + KG Instruct"
      ],
      "metadata": {
        "id": "6vYiDPihNPjk"
      }
    },
    {
      "cell_type": "code",
      "source": [
        "baseline_answer_str = \"\"\"\n",
        "A E C A E C C C A A\n",
        "E C E C A D D A C A\n",
        "C C A D C C D A B E\n",
        "C C C C C D A A A D\n",
        "D A C A C B C C A A\n",
        "C D A D A C B C C B\n",
        "D A D D D D A C C B\n",
        "A B A D C C B B B C\n",
        "A C A C C C C D A A\n",
        "C A B D E A D B C D\n",
        "C B A A C A B A D C\n",
        "A E B C D C B C A A\n",
        "C B D A E C C D A A\n",
        "C C D D A A D A D D\n",
        "D D B C D B B A A C\n",
        "A A A A C D D D A C\n",
        "E C C C C C D D D B\n",
        "A D D C D A D D B A\n",
        "A A A D E C A C D A\n",
        "D A A D D E D C C A\n",
        "A D D E B\n",
        "\"\"\"\n",
        "baseline_answers = baseline_answer_str.split()\n",
        "print(len(baseline_answers), baseline_answers[:5])\n",
        "print(baseline_answers.count('A'), baseline_answers.count('B'), baseline_answers.count('C'), baseline_answers.count('D'), baseline_answers.count('E'))\n",
        "print((baseline_answers.count('A') + baseline_answers.count('B') + baseline_answers.count('C') + baseline_answers.count('D')) / len(baseline_answers))"
      ],
      "metadata": {
        "colab": {
          "base_uri": "https://localhost:8080/"
        },
        "outputId": "57e8622f-6299-4a88-b40a-40e8271645dd",
        "id": "N_OTxZSNNPjm"
      },
      "execution_count": null,
      "outputs": [
        {
          "output_type": "stream",
          "name": "stdout",
          "text": [
            "205 ['A', 'E', 'C', 'A', 'E']\n",
            "60 22 61 50 12\n",
            "0.9414634146341463\n"
          ]
        }
      ]
    },
    {
      "cell_type": "code",
      "source": [
        "correct_count_corrected = sum(1 for provided, user in zip(answers, baseline_answers) if provided == user)\n",
        "total_answers_corrected = len(baseline_answers)\n",
        "accuracy_corrected = correct_count_corrected / total_answers_corrected if total_answers_corrected else 0\n",
        "\n",
        "accuracy_corrected, correct_count_corrected, total_answers_corrected"
      ],
      "metadata": {
        "colab": {
          "base_uri": "https://localhost:8080/"
        },
        "outputId": "82bd1513-6c97-4455-cc8b-a3c61dc01bc1",
        "id": "MGsDdOnxNPjn"
      },
      "execution_count": null,
      "outputs": [
        {
          "output_type": "execute_result",
          "data": {
            "text/plain": [
              "(0.28780487804878047, 59, 205)"
            ]
          },
          "metadata": {},
          "execution_count": 16
        }
      ]
    },
    {
      "cell_type": "markdown",
      "source": [
        "# GPT-3.5"
      ],
      "metadata": {
        "id": "47fM55GWhIwF"
      }
    },
    {
      "cell_type": "code",
      "source": [
        "baseline_answer_str = \"\"\"\n",
        "B B C D A D B C D D\n",
        "B A C C A D D B B C\n",
        "A C A C C B D C A B\n",
        "D B B B C A B C A A\n",
        "C D D D C B C C B A\n",
        "A A A A C C B A A B\n",
        "B A C D D A A C D A\n",
        "C D A B A B A B A B\n",
        "D C A A A C B A B A\n",
        "C B B C C B D D B A\n",
        "A A C C A C B D A C\n",
        "D A B A B A A A A A\n",
        "C B D C C D C D C B\n",
        "C C D B D C A D D B\n",
        "D A A B D C C A D B\n",
        "B A D D B C B B D C\n",
        "D B C A A C A A A D\n",
        "B C D B A\n",
        "\"\"\"\n",
        "baseline_answers = baseline_answer_str.split()\n",
        "print(len(baseline_answers), baseline_answers[:5])\n",
        "print(baseline_answers.count('A'), baseline_answers.count('B'), baseline_answers.count('C'), baseline_answers.count('D'), baseline_answers.count('E'))\n",
        "print((baseline_answers.count('A') + baseline_answers.count('B') + baseline_answers.count('C') + baseline_answers.count('D')) / len(baseline_answers))"
      ],
      "metadata": {
        "colab": {
          "base_uri": "https://localhost:8080/"
        },
        "outputId": "581a40a4-7637-47e2-88fd-33db5906018d",
        "id": "-Jznyx1MhIwL"
      },
      "execution_count": null,
      "outputs": [
        {
          "output_type": "stream",
          "name": "stdout",
          "text": [
            "175 ['B', 'B', 'C', 'D', 'A']\n",
            "52 43 44 36 0\n",
            "1.0\n"
          ]
        }
      ]
    },
    {
      "cell_type": "code",
      "source": [
        "correct_count_corrected = sum(1 for provided, user in zip(answers, baseline_answers) if provided == user)\n",
        "total_answers_corrected = len(baseline_answers)\n",
        "accuracy_corrected = correct_count_corrected / total_answers_corrected if total_answers_corrected else 0\n",
        "\n",
        "accuracy_corrected, correct_count_corrected, total_answers_corrected"
      ],
      "metadata": {
        "colab": {
          "base_uri": "https://localhost:8080/"
        },
        "outputId": "45c05b41-f9fa-48fd-d542-bdd06367537b",
        "id": "-c3BOceWhIwM"
      },
      "execution_count": null,
      "outputs": [
        {
          "output_type": "execute_result",
          "data": {
            "text/plain": [
              "(0.36, 63, 175)"
            ]
          },
          "metadata": {},
          "execution_count": 29
        }
      ]
    },
    {
      "cell_type": "markdown",
      "source": [
        "# GPT-4"
      ],
      "metadata": {
        "id": "C41SO9A3dSv3"
      }
    },
    {
      "cell_type": "code",
      "source": [
        "baseline_answer_str = \"\"\"\n",
        "C D C A D D B A D A\n",
        "C A A A D D D C B C\n",
        "A A A D C B A A A B\n",
        "D B B B C D B B B D\n",
        "C D B A C C C C C A\n",
        "D D C B C C B C A D\n",
        "C C C B C A B D A B\n",
        "C C C B B A A B D B\n",
        "A A B B A B C A C A\n",
        "C A D D A C A C B D\n",
        "B A C A D B B C A C\n",
        "B D D B A D C C C A\n",
        "C B C D A B A B C C\n",
        "A D A C A B B D A B\n",
        "D A D B B B C B A B\n",
        "C D C C C A D D B B\n",
        "C C B B C C B D D C\n",
        "D C A C B C D A C B\n",
        "C A D D A C C C D A\n",
        "C C C B A C A B A B\n",
        "A D B B D\n",
        "\"\"\"\n",
        "baseline_answers = baseline_answer_str.split()\n",
        "print(len(baseline_answers), baseline_answers[:5])\n",
        "print(baseline_answers.count('A'), baseline_answers.count('B'), baseline_answers.count('C'), baseline_answers.count('D'), baseline_answers.count('E'))\n",
        "print((baseline_answers.count('A') + baseline_answers.count('B') + baseline_answers.count('C') + baseline_answers.count('D')) / len(baseline_answers))"
      ],
      "metadata": {
        "colab": {
          "base_uri": "https://localhost:8080/"
        },
        "outputId": "fd7d5df6-05f4-47ac-ddb3-4dff8b484acd",
        "id": "E2AX6zGOdSwB"
      },
      "execution_count": null,
      "outputs": [
        {
          "output_type": "stream",
          "name": "stdout",
          "text": [
            "205 ['C', 'D', 'C', 'A', 'D']\n",
            "50 52 62 41 0\n",
            "1.0\n"
          ]
        }
      ]
    },
    {
      "cell_type": "code",
      "source": [
        "correct_count_corrected = sum(1 for provided, user in zip(answers, baseline_answers) if provided == user)\n",
        "total_answers_corrected = len(baseline_answers)\n",
        "accuracy_corrected = correct_count_corrected / total_answers_corrected if total_answers_corrected else 0\n",
        "\n",
        "accuracy_corrected, correct_count_corrected, total_answers_corrected"
      ],
      "metadata": {
        "colab": {
          "base_uri": "https://localhost:8080/"
        },
        "outputId": "b8cd659b-a0bd-4630-d490-d1eb3fa28e76",
        "id": "6mLY55H6dSwC"
      },
      "execution_count": null,
      "outputs": [
        {
          "output_type": "execute_result",
          "data": {
            "text/plain": [
              "(0.6536585365853659, 134, 205)"
            ]
          },
          "metadata": {},
          "execution_count": 27
        }
      ]
    }
  ]
}